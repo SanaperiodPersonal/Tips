{
  "nbformat": 4,
  "nbformat_minor": 0,
  "metadata": {
    "colab": {
      "name": "Metric_FMeasure.ipynb",
      "provenance": [],
      "collapsed_sections": [],
      "authorship_tag": "ABX9TyPIsCHAvPPYFcZZq70pO10u"
    },
    "kernelspec": {
      "name": "python3",
      "display_name": "Python 3"
    },
    "language_info": {
      "name": "python"
    }
  },
  "cells": [
    {
      "cell_type": "code",
      "metadata": {
        "id": "rbimuQDQ2vFh"
      },
      "source": [
        "import numpy as np\n",
        "from tensorflow.keras import backend as K\n",
        "from tensorflow.keras.metrics import Metric\n",
        "from tensorflow.python.keras.utils import metrics_utils\n",
        "from tensorflow.python.keras.utils.generic_utils import to_list\n",
        "from tensorflow.python.ops import init_ops, math_ops\n",
        "\n",
        "\n",
        "class FMeasure(Metric):\n",
        "    def __init__(self,\n",
        "                 thresholds=None,\n",
        "                 top_k=None,\n",
        "                 class_id=None,\n",
        "                 name=None,\n",
        "                 dtype=None):\n",
        "        super(FMeasure, self).__init__(name=name, dtype=dtype)\n",
        "        self.init_thresholds = thresholds\n",
        "        self.top_k = top_k\n",
        "        self.class_id = class_id\n",
        "\n",
        "        default_threshold = 0.5 if top_k is None else metrics_utils.NEG_INF\n",
        "        self.thresholds = metrics_utils.parse_init_thresholds(\n",
        "            thresholds, default_threshold=default_threshold)\n",
        "        self.true_positives = self.add_weight(\n",
        "            'true_positives',\n",
        "            shape=(len(self.thresholds), ),\n",
        "            initializer=init_ops.zeros_initializer)\n",
        "        self.false_positives = self.add_weight(\n",
        "            'false_positives',\n",
        "            shape=(len(self.thresholds), ),\n",
        "            initializer=init_ops.zeros_initializer)\n",
        "        self.false_negatives = self.add_weight(\n",
        "            'false_negatives',\n",
        "            shape=(len(self.thresholds), ),\n",
        "            initializer=init_ops.zeros_initializer)\n",
        "\n",
        "    def update_state(self, y_true, y_pred, sample_weight=None):\n",
        "        return metrics_utils.update_confusion_matrix_variables(\n",
        "            {\n",
        "                metrics_utils.ConfusionMatrix.TRUE_POSITIVES:\n",
        "                self.true_positives,\n",
        "                metrics_utils.ConfusionMatrix.FALSE_POSITIVES:\n",
        "                self.false_positives,\n",
        "                metrics_utils.ConfusionMatrix.FALSE_NEGATIVES:\n",
        "                self.false_negatives\n",
        "            },\n",
        "            y_true,\n",
        "            y_pred,\n",
        "            thresholds=self.thresholds,\n",
        "            top_k=self.top_k,\n",
        "            class_id=self.class_id,\n",
        "            sample_weight=sample_weight)\n",
        "\n",
        "    def _p_result(self):\n",
        "        result = math_ops.div_no_nan(\n",
        "            self.true_positives, self.true_positives + self.false_positives)\n",
        "        return result\n",
        "\n",
        "    def _r_result(self):\n",
        "        result = math_ops.div_no_nan(\n",
        "            self.true_positives, self.true_positives + self.false_negatives)\n",
        "        return result\n",
        "\n",
        "    def result(self):\n",
        "        result = math_ops.div_no_nan(2 * self._p_result() * self._r_result(),\n",
        "                                     self._p_result() + self._r_result())\n",
        "        return result[0] if len(self.thresholds) == 1 else result\n",
        "\n",
        "    def reset_state(self):\n",
        "        num_thresholds = len(to_list(self.thresholds))\n",
        "        K.batch_set_value([(v, np.zeros((num_thresholds, )))\n",
        "                           for v in self.variables])\n",
        "\n",
        "    def get_config(self):\n",
        "        config = {\n",
        "            'thresholds': self.init_thresholds,\n",
        "            'top_k': self.top_k,\n",
        "            'class_id': self.class_id\n",
        "        }\n",
        "        base_config = super(FMeasure, self).get_config()\n",
        "        return dict(list(base_config.items()) + list(config.items()))\n"
      ],
      "execution_count": 1,
      "outputs": []
    },
    {
      "cell_type": "code",
      "metadata": {
        "colab": {
          "base_uri": "https://localhost:8080/"
        },
        "id": "KRQlH7jg25Tz",
        "outputId": "ad5b2c09-cf35-4e32-f7d3-9bc70a6ba4e6"
      },
      "source": [
        "import tensorflow as tf\n",
        "\n",
        "\n",
        "class Tester(tf.keras.Model):\n",
        "    def __init__(self):\n",
        "        super().__init__()\n",
        "\n",
        "    def call(self, x):\n",
        "        return x\n",
        "\n",
        "\n",
        "x = np.array([[1, 0, 0, 0], [0, 1, 0, 0], [0, 0, 1, 0], [0, 0, 0, 1]])\n",
        "x = x.astype(float)\n",
        "y = np.array([[0, 1, 0, 0], [1, 0, 0, 0], [1, 0, 0, 0], [0, 0, 0, 1]])\n",
        "y = y.astype(float)\n",
        "\n",
        "tester = Tester()\n",
        "tester.build(input_shape=(4, ))\n",
        "tester.compile(metrics=[FMeasure()])\n",
        "tester.fit(x, y, epochs=3)\n"
      ],
      "execution_count": 4,
      "outputs": [
        {
          "output_type": "stream",
          "text": [
            "Epoch 1/3\n",
            "1/1 [==============================] - 1s 608ms/step - loss: 0.0000e+00 - f_measure: 0.2500\n",
            "Epoch 2/3\n",
            "1/1 [==============================] - 0s 5ms/step - loss: 0.0000e+00 - f_measure: 0.2500\n",
            "Epoch 3/3\n",
            "1/1 [==============================] - 0s 5ms/step - loss: 0.0000e+00 - f_measure: 0.2500\n"
          ],
          "name": "stdout"
        },
        {
          "output_type": "execute_result",
          "data": {
            "text/plain": [
              "<tensorflow.python.keras.callbacks.History at 0x7f31d5d72a50>"
            ]
          },
          "metadata": {
            "tags": []
          },
          "execution_count": 4
        }
      ]
    }
  ]
}