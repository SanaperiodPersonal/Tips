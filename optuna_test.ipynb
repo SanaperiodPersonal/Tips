{
  "nbformat": 4,
  "nbformat_minor": 0,
  "metadata": {
    "colab": {
      "name": "optuna_test.ipynb",
      "provenance": [],
      "collapsed_sections": [],
      "authorship_tag": "ABX9TyOrGjU26LzgvCcbIaI+6D5l"
    },
    "kernelspec": {
      "name": "python3",
      "display_name": "Python 3"
    },
    "language_info": {
      "name": "python"
    },
    "accelerator": "GPU"
  },
  "cells": [
    {
      "cell_type": "code",
      "metadata": {
        "colab": {
          "base_uri": "https://localhost:8080/"
        },
        "id": "4bfJfuLKiozD",
        "outputId": "d9e6ada2-e5b3-46d3-c3dc-cdbb3abfe5c3"
      },
      "source": [
        "!pip install optuna"
      ],
      "execution_count": 1,
      "outputs": [
        {
          "output_type": "stream",
          "text": [
            "Requirement already satisfied: optuna in /usr/local/lib/python3.7/dist-packages (2.8.0)\n",
            "Requirement already satisfied: cmaes>=0.8.2 in /usr/local/lib/python3.7/dist-packages (from optuna) (0.8.2)\n",
            "Requirement already satisfied: packaging>=20.0 in /usr/local/lib/python3.7/dist-packages (from optuna) (20.9)\n",
            "Requirement already satisfied: colorlog in /usr/local/lib/python3.7/dist-packages (from optuna) (5.0.1)\n",
            "Requirement already satisfied: cliff in /usr/local/lib/python3.7/dist-packages (from optuna) (3.8.0)\n",
            "Requirement already satisfied: sqlalchemy>=1.1.0 in /usr/local/lib/python3.7/dist-packages (from optuna) (1.4.18)\n",
            "Requirement already satisfied: tqdm in /usr/local/lib/python3.7/dist-packages (from optuna) (4.41.1)\n",
            "Requirement already satisfied: numpy in /usr/local/lib/python3.7/dist-packages (from optuna) (1.19.5)\n",
            "Requirement already satisfied: alembic in /usr/local/lib/python3.7/dist-packages (from optuna) (1.6.5)\n",
            "Requirement already satisfied: scipy!=1.4.0 in /usr/local/lib/python3.7/dist-packages (from optuna) (1.4.1)\n",
            "Requirement already satisfied: pyparsing>=2.0.2 in /usr/local/lib/python3.7/dist-packages (from packaging>=20.0->optuna) (2.4.7)\n",
            "Requirement already satisfied: cmd2>=1.0.0 in /usr/local/lib/python3.7/dist-packages (from cliff->optuna) (2.1.0)\n",
            "Requirement already satisfied: pbr!=2.1.0,>=2.0.0 in /usr/local/lib/python3.7/dist-packages (from cliff->optuna) (5.6.0)\n",
            "Requirement already satisfied: stevedore>=2.0.1 in /usr/local/lib/python3.7/dist-packages (from cliff->optuna) (3.3.0)\n",
            "Requirement already satisfied: PyYAML>=3.12 in /usr/local/lib/python3.7/dist-packages (from cliff->optuna) (3.13)\n",
            "Requirement already satisfied: PrettyTable>=0.7.2 in /usr/local/lib/python3.7/dist-packages (from cliff->optuna) (2.1.0)\n",
            "Requirement already satisfied: importlib-metadata; python_version < \"3.8\" in /usr/local/lib/python3.7/dist-packages (from sqlalchemy>=1.1.0->optuna) (4.5.0)\n",
            "Requirement already satisfied: greenlet!=0.4.17; python_version >= \"3\" in /usr/local/lib/python3.7/dist-packages (from sqlalchemy>=1.1.0->optuna) (1.1.0)\n",
            "Requirement already satisfied: python-dateutil in /usr/local/lib/python3.7/dist-packages (from alembic->optuna) (2.8.1)\n",
            "Requirement already satisfied: python-editor>=0.3 in /usr/local/lib/python3.7/dist-packages (from alembic->optuna) (1.0.4)\n",
            "Requirement already satisfied: Mako in /usr/local/lib/python3.7/dist-packages (from alembic->optuna) (1.1.4)\n",
            "Requirement already satisfied: colorama>=0.3.7 in /usr/local/lib/python3.7/dist-packages (from cmd2>=1.0.0->cliff->optuna) (0.4.4)\n",
            "Requirement already satisfied: typing-extensions; python_version < \"3.8\" in /usr/local/lib/python3.7/dist-packages (from cmd2>=1.0.0->cliff->optuna) (3.7.4.3)\n",
            "Requirement already satisfied: pyperclip>=1.6 in /usr/local/lib/python3.7/dist-packages (from cmd2>=1.0.0->cliff->optuna) (1.8.2)\n",
            "Requirement already satisfied: wcwidth>=0.1.7 in /usr/local/lib/python3.7/dist-packages (from cmd2>=1.0.0->cliff->optuna) (0.2.5)\n",
            "Requirement already satisfied: attrs>=16.3.0 in /usr/local/lib/python3.7/dist-packages (from cmd2>=1.0.0->cliff->optuna) (21.2.0)\n",
            "Requirement already satisfied: zipp>=0.5 in /usr/local/lib/python3.7/dist-packages (from importlib-metadata; python_version < \"3.8\"->sqlalchemy>=1.1.0->optuna) (3.4.1)\n",
            "Requirement already satisfied: six>=1.5 in /usr/local/lib/python3.7/dist-packages (from python-dateutil->alembic->optuna) (1.15.0)\n",
            "Requirement already satisfied: MarkupSafe>=0.9.2 in /usr/local/lib/python3.7/dist-packages (from Mako->alembic->optuna) (2.0.1)\n"
          ],
          "name": "stdout"
        }
      ]
    },
    {
      "cell_type": "markdown",
      "metadata": {
        "id": "sR1qehvDjVlL"
      },
      "source": [
        "# 簡単なハイパーチューニング"
      ]
    },
    {
      "cell_type": "code",
      "metadata": {
        "id": "17p8bGSonz-0"
      },
      "source": [
        "import optuna\n",
        "import tensorflow as tf"
      ],
      "execution_count": 2,
      "outputs": []
    },
    {
      "cell_type": "markdown",
      "metadata": {
        "id": "xhxu1VhUqpWk"
      },
      "source": [
        "## 基本的な使用方法\n",
        "1. まずobjective関数を定義\n",
        "    - 第一引数はtrial（ここにoptunaの機能群が渡される）\n",
        "    - returnは最適化の基準に用いる値（AccやLossなど） \n",
        "2. create_studyで最適化の初期設定を決める（最大化か最小化か等の設定）\n",
        "3. optimize(objective, n_trials=試行回数)という形でチューニング\n",
        "4. 最適なパラメータの値やその時のスコアがbest_params, best_valueに保存される"
      ]
    },
    {
      "cell_type": "code",
      "metadata": {
        "id": "DZ7JSRjdo3U9"
      },
      "source": [
        "# 第一引数\"trial\"にoptunaの機能群が渡されるのでtrial.XXXという形で使用できる\n",
        "def objective(trial):\n",
        "    # チューニングに用いる候補を変数xに格納\n",
        "    x = trial.suggest_categorical(\"node_num\", [-3, -2, -1, 0, 1, 2])\n",
        "    result = x**2\n",
        "    return result\n"
      ],
      "execution_count": 3,
      "outputs": []
    },
    {
      "cell_type": "code",
      "metadata": {
        "colab": {
          "base_uri": "https://localhost:8080/"
        },
        "id": "_vgsATyxpPm-",
        "outputId": "648b0edb-a3a7-4f67-b5ae-86f64b57668b"
      },
      "source": [
        "# 最適化する方向を決める（最小化か最大化か）今回は最大化をしてみる\n",
        "study = optuna.create_study(direction='maximize')\n",
        "# optimizeメソッドの第一引数に作成した関数を、n_trialsに探索回数を指定\n",
        "study.optimize(objective, n_trials=10)\n"
      ],
      "execution_count": 4,
      "outputs": [
        {
          "output_type": "stream",
          "text": [
            "\u001b[32m[I 2021-06-17 02:34:52,405]\u001b[0m A new study created in memory with name: no-name-c703484a-72c6-4cbb-b853-6a9ab21a8b5f\u001b[0m\n",
            "\u001b[32m[I 2021-06-17 02:34:52,410]\u001b[0m Trial 0 finished with value: 9.0 and parameters: {'node_num': -3}. Best is trial 0 with value: 9.0.\u001b[0m\n",
            "\u001b[32m[I 2021-06-17 02:34:52,413]\u001b[0m Trial 1 finished with value: 9.0 and parameters: {'node_num': -3}. Best is trial 0 with value: 9.0.\u001b[0m\n",
            "\u001b[32m[I 2021-06-17 02:34:52,416]\u001b[0m Trial 2 finished with value: 9.0 and parameters: {'node_num': -3}. Best is trial 0 with value: 9.0.\u001b[0m\n",
            "\u001b[32m[I 2021-06-17 02:34:52,419]\u001b[0m Trial 3 finished with value: 1.0 and parameters: {'node_num': -1}. Best is trial 0 with value: 9.0.\u001b[0m\n",
            "\u001b[32m[I 2021-06-17 02:34:52,422]\u001b[0m Trial 4 finished with value: 4.0 and parameters: {'node_num': 2}. Best is trial 0 with value: 9.0.\u001b[0m\n",
            "\u001b[32m[I 2021-06-17 02:34:52,425]\u001b[0m Trial 5 finished with value: 0.0 and parameters: {'node_num': 0}. Best is trial 0 with value: 9.0.\u001b[0m\n",
            "\u001b[32m[I 2021-06-17 02:34:52,428]\u001b[0m Trial 6 finished with value: 1.0 and parameters: {'node_num': 1}. Best is trial 0 with value: 9.0.\u001b[0m\n",
            "\u001b[32m[I 2021-06-17 02:34:52,430]\u001b[0m Trial 7 finished with value: 1.0 and parameters: {'node_num': 1}. Best is trial 0 with value: 9.0.\u001b[0m\n",
            "\u001b[32m[I 2021-06-17 02:34:52,433]\u001b[0m Trial 8 finished with value: 9.0 and parameters: {'node_num': -3}. Best is trial 0 with value: 9.0.\u001b[0m\n",
            "\u001b[32m[I 2021-06-17 02:34:52,436]\u001b[0m Trial 9 finished with value: 4.0 and parameters: {'node_num': 2}. Best is trial 0 with value: 9.0.\u001b[0m\n"
          ],
          "name": "stderr"
        }
      ]
    },
    {
      "cell_type": "code",
      "metadata": {
        "colab": {
          "base_uri": "https://localhost:8080/"
        },
        "id": "GdZy-vzQpQNg",
        "outputId": "02509349-9045-4eb5-f480-22e5f047aeac"
      },
      "source": [
        "# best_paramsが最適になった際のパラメータの値\n",
        "print(study.best_params)\n",
        "# best_valueがその時の実際のスコア\n",
        "print(study.best_value)\n",
        "# 当然 x^2 を求めているので (-3)^2 が最もよい値となる\n"
      ],
      "execution_count": 5,
      "outputs": [
        {
          "output_type": "stream",
          "text": [
            "{'node_num': -3}\n",
            "9.0\n"
          ],
          "name": "stdout"
        }
      ]
    },
    {
      "cell_type": "markdown",
      "metadata": {
        "id": "XEE5lkiUtT7Y"
      },
      "source": [
        "# CIFARを用いたチューニング例"
      ]
    },
    {
      "cell_type": "code",
      "metadata": {
        "id": "CjTOZQvqtTSu"
      },
      "source": [
        "import numpy as np\n",
        "import tensorflow as tf\n",
        "from tensorflow import keras\n",
        "from tensorflow.keras.layers import Conv2D, Dense, Flatten, MaxPool2D\n"
      ],
      "execution_count": 6,
      "outputs": []
    },
    {
      "cell_type": "code",
      "metadata": {
        "id": "i01k0XTptzh_"
      },
      "source": [
        "# データ読み込みと正規化、OneHot化等の前処理\n",
        "(x_train, y_train), (x_test, y_test) = keras.datasets.cifar10.load_data()\n",
        "x_train = x_train.astype('float32') / 255.0\n",
        "x_test = x_test.astype('float32') / 255.0\n",
        "y_train = keras.utils.to_categorical(y_train, 10)\n",
        "y_test = keras.utils.to_categorical(y_test, 10)\n"
      ],
      "execution_count": 7,
      "outputs": []
    },
    {
      "cell_type": "code",
      "metadata": {
        "id": "c2zA1RbJus7i"
      },
      "source": [
        "def objective(trial):\n",
        "    # 念のためリフレッシュ\n",
        "    tf.keras.backend.clear_session()\n",
        "    # suggest_intでは100～500のintを選択してくれる\n",
        "    num_fc_units = trial.suggest_int('num_fc_units', 100, 500)\n",
        "    # チューニングするモデルを作成\n",
        "    model = keras.Sequential()\n",
        "    model.add(\n",
        "        Conv2D(32, (3, 3),\n",
        "               padding='same',\n",
        "               input_shape=(32, 32, 3),\n",
        "               activation='relu'))\n",
        "    model.add(MaxPool2D(pool_size=(2, 2)))\n",
        "    model.add(Flatten())\n",
        "    # 今回は全結合部分のノード数をチューニング\n",
        "    model.add(Dense(num_fc_units, activation='relu'))\n",
        "    model.add(Dense(10, activation='softmax'))\n",
        "\n",
        "    model.compile(optimizer='adam',\n",
        "                  loss='categorical_crossentropy',\n",
        "                  metrics=['accuracy'])\n",
        "    model.fit(x_train, y_train, batch_size=2**12, epochs=10, verbose=0)\n",
        "    # model.evaluateは[loss, acc]が返されるのでaccのみを抽出\n",
        "    result = model.evaluate(x_test, y_test, verbose=0)[1]\n",
        "    return result\n"
      ],
      "execution_count": 8,
      "outputs": []
    },
    {
      "cell_type": "code",
      "metadata": {
        "colab": {
          "base_uri": "https://localhost:8080/"
        },
        "id": "g9GWus2Btosi",
        "outputId": "d086559d-23b9-48d2-f10f-dd66de3c2504"
      },
      "source": [
        "study = optuna.create_study(direction='maximize')\n",
        "study.optimize(objective, n_trials=5)\n"
      ],
      "execution_count": 9,
      "outputs": [
        {
          "output_type": "stream",
          "text": [
            "\u001b[32m[I 2021-06-17 02:34:53,503]\u001b[0m A new study created in memory with name: no-name-eeff3721-c819-4e3a-b42d-386775a8e587\u001b[0m\n",
            "\u001b[32m[I 2021-06-17 02:35:16,569]\u001b[0m Trial 0 finished with value: 0.5202999711036682 and parameters: {'num_fc_units': 196}. Best is trial 0 with value: 0.5202999711036682.\u001b[0m\n",
            "\u001b[32m[I 2021-06-17 02:35:30,287]\u001b[0m Trial 1 finished with value: 0.5442000031471252 and parameters: {'num_fc_units': 451}. Best is trial 1 with value: 0.5442000031471252.\u001b[0m\n",
            "\u001b[32m[I 2021-06-17 02:35:52,318]\u001b[0m Trial 2 finished with value: 0.5669000148773193 and parameters: {'num_fc_units': 194}. Best is trial 2 with value: 0.5669000148773193.\u001b[0m\n",
            "\u001b[32m[I 2021-06-17 02:36:15,045]\u001b[0m Trial 3 finished with value: 0.532800018787384 and parameters: {'num_fc_units': 281}. Best is trial 2 with value: 0.5669000148773193.\u001b[0m\n",
            "\u001b[32m[I 2021-06-17 02:36:37,062]\u001b[0m Trial 4 finished with value: 0.5548999905586243 and parameters: {'num_fc_units': 193}. Best is trial 2 with value: 0.5669000148773193.\u001b[0m\n"
          ],
          "name": "stderr"
        }
      ]
    },
    {
      "cell_type": "code",
      "metadata": {
        "colab": {
          "base_uri": "https://localhost:8080/"
        },
        "id": "kY7t9L8xyb2Y",
        "outputId": "036e3562-2299-4b65-cedc-4e3e1905315b"
      },
      "source": [
        "study.best_params, study.best_value\n"
      ],
      "execution_count": 10,
      "outputs": [
        {
          "output_type": "execute_result",
          "data": {
            "text/plain": [
              "({'num_fc_units': 194}, 0.5669000148773193)"
            ]
          },
          "metadata": {
            "tags": []
          },
          "execution_count": 10
        }
      ]
    },
    {
      "cell_type": "markdown",
      "metadata": {
        "id": "TOTph1EejNA5"
      },
      "source": [
        "# 課題で用いたコード\n",
        "※データの読み込み等の部分は割愛しているのでこのままでは動かないです"
      ]
    },
    {
      "cell_type": "code",
      "metadata": {
        "id": "1m3nFrQ9ixZV"
      },
      "source": [
        "# コードが長くなるのでモデルの定義部分を別関数としている\n",
        "# 引数num_unitで指定した数のノード数のRNNを構築し、returnでそのモデルを返す\n",
        "def create_model_trial(num_unit=128):\n",
        "    model = tf.keras.Sequential()\n",
        "    model.add(\n",
        "        tf.keras.layers.SimpleRNN(num_unit,\n",
        "                                  input_shape=x_train[0].shape,\n",
        "                                  activation=\"tanh\",\n",
        "                                  return_sequences=True,\n",
        "                                  kernel_initializer=\"random_normal\",\n",
        "                                  recurrent_initializer=\"orthogonal\"))\n",
        "    model.add(\n",
        "        tf.keras.layers.Dense(y_train[0].shape[1],\n",
        "                              use_bias=True,\n",
        "                              activation=\"softmax\"))\n",
        "\n",
        "    model.compile(optimizer=\"adam\",\n",
        "                  loss=\"categorical_crossentropy\",\n",
        "                  metrics=\"categorical_accuracy\")\n",
        "    return model\n",
        "\n",
        "\n",
        "def objective(trial):\n",
        "    tf.keras.backend.clear_session()\n",
        "\n",
        "    # Denseノード数をnum_unitsとしてチューニング\n",
        "    num_units = trial.suggest_categorical(\"num_unit\",\n",
        "                                          [2**i\n",
        "                                           for i in range(5, 11)])  # 32-1024\n",
        "\n",
        "    # チューニングするモデルを作成\n",
        "    model = create_model_trial(num_units)\n",
        "\n",
        "    # モデルのパラメータだけでなく、以下のようにバッチサイズやエポック数もチューニング可能\n",
        "    history = model.fit(\n",
        "        x_train,\n",
        "        y_train,\n",
        "        batch_size=trial.suggest_categorical(\"num_batch\",\n",
        "                                             [2**i\n",
        "                                              for i in range(14)]),  # 1-2048\n",
        "        epochs=trial.suggest_categorical(\"num_epoch\",\n",
        "                                         [2**i\n",
        "                                          for i in range(5, 10)]),  # 16-512\n",
        "        verbose=0)\n",
        "\n",
        "    result = model.evaluate(x=x_test, y=y_test)[1]\n",
        "    return result\n"
      ],
      "execution_count": null,
      "outputs": []
    },
    {
      "cell_type": "code",
      "metadata": {
        "id": "igF3Mkk_i4Y2"
      },
      "source": [
        "# study = optuna.create_study(direction='maximize')\n",
        "# study.optimize(objective, n_trials=1)\n"
      ],
      "execution_count": null,
      "outputs": []
    },
    {
      "cell_type": "code",
      "metadata": {
        "id": "noskQDEWi45P"
      },
      "source": [
        "# study.best_params, study.best_value\n"
      ],
      "execution_count": null,
      "outputs": []
    },
    {
      "cell_type": "code",
      "metadata": {
        "id": "Qwlhlu010Nvb"
      },
      "source": [
        ""
      ],
      "execution_count": null,
      "outputs": []
    }
  ]
}